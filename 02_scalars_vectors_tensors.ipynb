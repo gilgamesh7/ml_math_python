{
 "cells": [
  {
   "cell_type": "markdown",
   "metadata": {},
   "source": [
    "# Scalars - Rank 0 Tensor\n",
    "### Same as varaibles, with 1 dim and a type\n"
   ]
  },
  {
   "cell_type": "code",
   "execution_count": 1,
   "metadata": {},
   "outputs": [],
   "source": [
    "import torch"
   ]
  },
  {
   "cell_type": "code",
   "execution_count": 3,
   "metadata": {},
   "outputs": [
    {
     "data": {
      "text/plain": [
       "tensor(25)"
      ]
     },
     "execution_count": 3,
     "metadata": {},
     "output_type": "execute_result"
    }
   ],
   "source": [
    "x_pt = torch.tensor(25 , dtype=int)\n",
    "x_pt"
   ]
  },
  {
   "cell_type": "code",
   "execution_count": 4,
   "metadata": {},
   "outputs": [
    {
     "data": {
      "text/plain": [
       "torch.Size([])"
      ]
     },
     "execution_count": 4,
     "metadata": {},
     "output_type": "execute_result"
    }
   ],
   "source": [
    "x_pt.shape"
   ]
  },
  {
   "cell_type": "markdown",
   "metadata": {},
   "source": [
    "# Vectors - Rank 1 Tensor"
   ]
  },
  {
   "cell_type": "markdown",
   "metadata": {},
   "source": [
    "### numpy"
   ]
  },
  {
   "cell_type": "code",
   "execution_count": 6,
   "metadata": {},
   "outputs": [],
   "source": [
    "import numpy as np"
   ]
  },
  {
   "cell_type": "code",
   "execution_count": 12,
   "metadata": {},
   "outputs": [
    {
     "name": "stdout",
     "output_type": "stream",
     "text": [
      "[25  2  5]\n",
      "3\n",
      "(3,)\n",
      "<class 'numpy.ndarray'>\n",
      "<class 'numpy.int64'>\n"
     ]
    }
   ],
   "source": [
    "x = np.array([25,2,5], dtype=int)\n",
    "\n",
    "print(x)\n",
    "print(len(x))\n",
    "print(x.shape)\n",
    "print(type(x))\n",
    "print(type(x[0]))"
   ]
  },
  {
   "cell_type": "code",
   "execution_count": 13,
   "metadata": {},
   "outputs": [
    {
     "name": "stdout",
     "output_type": "stream",
     "text": [
      "[25  2  5]\n",
      "3\n",
      "(3,)\n",
      "<class 'numpy.ndarray'>\n",
      "<class 'numpy.int64'>\n"
     ]
    }
   ],
   "source": [
    "# Transposing 1 D vector - no effect\n",
    "x_t = x.T\n",
    "print(x)\n",
    "print(len(x))\n",
    "print(x.shape)\n",
    "print(type(x))\n",
    "print(type(x[0]))"
   ]
  },
  {
   "cell_type": "code",
   "execution_count": 17,
   "metadata": {},
   "outputs": [
    {
     "name": "stdout",
     "output_type": "stream",
     "text": [
      "[[25  2  5]]\n",
      "[[25]\n",
      " [ 2]\n",
      " [ 5]]\n",
      "3\n",
      "(1, 3)\n",
      "(3, 1)\n",
      "<class 'numpy.ndarray'>\n",
      "<class 'numpy.ndarray'>\n"
     ]
    }
   ],
   "source": [
    "# Create & transpose a 2-D vector\n",
    "y = np.array([[25,2,5]])\n",
    "y_t = y.T\n",
    "\n",
    "print(y)\n",
    "print(y_t)\n",
    "print(len(y_t))\n",
    "print(y.shape)\n",
    "print(y_t.shape)\n",
    "print(type(y))\n",
    "print(type(y[0]))"
   ]
  },
  {
   "cell_type": "code",
   "execution_count": 19,
   "metadata": {},
   "outputs": [
    {
     "name": "stdout",
     "output_type": "stream",
     "text": [
      "[0. 0. 0.]\n",
      "[0. 0. 0.]\n"
     ]
    }
   ],
   "source": [
    "# Zero vector\n",
    "z = np.zeros(3)\n",
    "print(z)\n",
    "print(z.T)"
   ]
  },
  {
   "cell_type": "code",
   "execution_count": 26,
   "metadata": {},
   "outputs": [
    {
     "name": "stdout",
     "output_type": "stream",
     "text": [
      "25.573423705088842\n",
      "25.573423705088842\n"
     ]
    }
   ],
   "source": [
    "# Calculate L2 Norm (distance from origin of point in 3-D space)\n",
    "print(np.linalg.norm(x))\n",
    "print(np.linalg.norm(x_t))"
   ]
  },
  {
   "cell_type": "code",
   "execution_count": 28,
   "metadata": {},
   "outputs": [
    {
     "name": "stdout",
     "output_type": "stream",
     "text": [
      "654\n",
      "654\n"
     ]
    }
   ],
   "source": [
    "# Squared L2 Norm - same as xT.X\n",
    "print(np.dot(x,x))\n",
    "print(np.dot(x,x_t))"
   ]
  },
  {
   "cell_type": "code",
   "execution_count": 29,
   "metadata": {},
   "outputs": [
    {
     "name": "stdout",
     "output_type": "stream",
     "text": [
      "25\n"
     ]
    }
   ],
   "source": [
    "# Max Norm - largest absolute value\n",
    "print(np.max([np.abs(x[0]), np.abs(x[1]), np.abs(x[2]) ]))"
   ]
  },
  {
   "cell_type": "markdown",
   "metadata": {},
   "source": [
    "## Vectors using PyTorch"
   ]
  },
  {
   "cell_type": "code",
   "execution_count": 20,
   "metadata": {},
   "outputs": [],
   "source": [
    "import torch "
   ]
  },
  {
   "cell_type": "code",
   "execution_count": 24,
   "metadata": {},
   "outputs": [
    {
     "name": "stdout",
     "output_type": "stream",
     "text": [
      "tensor([[25.,  2.,  5.]], dtype=torch.float64)\n",
      "<built-in method transpose of Tensor object at 0x10f7049a0>\n"
     ]
    }
   ],
   "source": [
    "x_pt = torch.tensor([[25,2,5]], dtype=float)\n",
    "print(x_pt)\n",
    "print(x_pt.transpose)"
   ]
  }
 ],
 "metadata": {
  "interpreter": {
   "hash": "11dccad6fc9fd5292e5f628d1e96f267cccaa02cd75130e16d76ced4156bca0d"
  },
  "kernelspec": {
   "display_name": "Python 3.10.2 ('venv': venv)",
   "language": "python",
   "name": "python3"
  },
  "language_info": {
   "codemirror_mode": {
    "name": "ipython",
    "version": 3
   },
   "file_extension": ".py",
   "mimetype": "text/x-python",
   "name": "python",
   "nbconvert_exporter": "python",
   "pygments_lexer": "ipython3",
   "version": "3.10.2"
  },
  "orig_nbformat": 4
 },
 "nbformat": 4,
 "nbformat_minor": 2
}
