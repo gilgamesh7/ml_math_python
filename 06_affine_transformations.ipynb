{
 "cells": [
  {
   "cell_type": "code",
   "execution_count": 2,
   "metadata": {},
   "outputs": [],
   "source": [
    "import torch"
   ]
  },
  {
   "cell_type": "markdown",
   "metadata": {},
   "source": [
    "### Affine Transformations through Matrix applications\n",
    "\n",
    "[See this mathworks link to understand better](https://www.mathworks.com/discovery/affine-transformation.html) <br>\n",
    "[See this video for viusalising affine transformations and matrix multiplications](https://www.youtube.com/watch?v=E3Phj6J287o&list=PLHQATXHwOLPucyPVU79V2PtogbGvqtw33&index=3)"
   ]
  },
  {
   "cell_type": "markdown",
   "metadata": {},
   "source": [
    "#### Plot vector - Failed attempot using torch"
   ]
  },
  {
   "cell_type": "code",
   "execution_count": 3,
   "metadata": {},
   "outputs": [
    {
     "data": {
      "text/plain": [
       "tensor([3, 1])"
      ]
     },
     "execution_count": 3,
     "metadata": {},
     "output_type": "execute_result"
    }
   ],
   "source": [
    "v = torch.tensor([3,1])\n",
    "v"
   ]
  },
  {
   "cell_type": "code",
   "execution_count": 33,
   "metadata": {},
   "outputs": [],
   "source": [
    "# Function to plot 1 or more Range 1 Tensors (vectors) in a 2D plane\n",
    "import matplotlib.pyplot as plt\n",
    "\n",
    "def plot_vectors(vectors, colours, xlim, ylim):\n",
    "   # vecors : list of lists/arrays\n",
    "   # colours : list of colours of vectors on the plt\n",
    "   # xlim : xlimits tuple\n",
    "   # ylim : ylimits tuple\n",
    "   plt.figure()\n",
    "   plt.axvline(x=0, color='black')\n",
    "   plt.axhline(y=0, color='black')\n",
    "   plt.xlim(xlim[0],xlim[1])\n",
    "   plt.ylim(ylim[0],ylim[1])\n",
    "\n",
    "   for i in range(len(vectors)) :\n",
    "      x = torch.cat([0,0], vectors[i],0)\n",
    "      plt.quiver([x[0]] , [x[1]] , [x[2]] , [x[3]],\n",
    "                  angles='xy', scale_units='xy', scale=1, color=colours[i])\n",
    "\n",
    "   \n",
    "\n",
    "\n"
   ]
  },
  {
   "cell_type": "code",
   "execution_count": 34,
   "metadata": {},
   "outputs": [
    {
     "ename": "TypeError",
     "evalue": "cat() received an invalid combination of arguments - got (list, Tensor, int), but expected one of:\n * (tuple of Tensors tensors, int dim, *, Tensor out)\n * (tuple of Tensors tensors, name dim, *, Tensor out)\n",
     "output_type": "error",
     "traceback": [
      "\u001b[0;31m---------------------------------------------------------------------------\u001b[0m",
      "\u001b[0;31mTypeError\u001b[0m                                 Traceback (most recent call last)",
      "\u001b[1;32m/Users/vrbabu/Documents/code/udemy_ml_math_python/ml_math_python/06_affine_transformations.ipynb Cell 6'\u001b[0m in \u001b[0;36m<cell line: 1>\u001b[0;34m()\u001b[0m\n\u001b[0;32m----> <a href='vscode-notebook-cell:/Users/vrbabu/Documents/code/udemy_ml_math_python/ml_math_python/06_affine_transformations.ipynb#ch0000006?line=0'>1</a>\u001b[0m plot_vectors([v],\u001b[39m'\u001b[39;49m\u001b[39mgreen\u001b[39;49m\u001b[39m'\u001b[39;49m,(\u001b[39m-\u001b[39;49m\u001b[39m1\u001b[39;49m,\u001b[39m5\u001b[39;49m),(\u001b[39m-\u001b[39;49m\u001b[39m1\u001b[39;49m,\u001b[39m5\u001b[39;49m))\n",
      "\u001b[1;32m/Users/vrbabu/Documents/code/udemy_ml_math_python/ml_math_python/06_affine_transformations.ipynb Cell 5'\u001b[0m in \u001b[0;36mplot_vectors\u001b[0;34m(vectors, colours, xlim, ylim)\u001b[0m\n\u001b[1;32m     <a href='vscode-notebook-cell:/Users/vrbabu/Documents/code/udemy_ml_math_python/ml_math_python/06_affine_transformations.ipynb#ch0000005?line=12'>13</a>\u001b[0m plt\u001b[39m.\u001b[39mylim(ylim[\u001b[39m0\u001b[39m],ylim[\u001b[39m1\u001b[39m])\n\u001b[1;32m     <a href='vscode-notebook-cell:/Users/vrbabu/Documents/code/udemy_ml_math_python/ml_math_python/06_affine_transformations.ipynb#ch0000005?line=14'>15</a>\u001b[0m \u001b[39mfor\u001b[39;00m i \u001b[39min\u001b[39;00m \u001b[39mrange\u001b[39m(\u001b[39mlen\u001b[39m(vectors)) :\n\u001b[0;32m---> <a href='vscode-notebook-cell:/Users/vrbabu/Documents/code/udemy_ml_math_python/ml_math_python/06_affine_transformations.ipynb#ch0000005?line=15'>16</a>\u001b[0m    x \u001b[39m=\u001b[39m torch\u001b[39m.\u001b[39;49mcat([\u001b[39m0\u001b[39;49m,\u001b[39m0\u001b[39;49m], vectors[i],\u001b[39m0\u001b[39;49m)\n\u001b[1;32m     <a href='vscode-notebook-cell:/Users/vrbabu/Documents/code/udemy_ml_math_python/ml_math_python/06_affine_transformations.ipynb#ch0000005?line=16'>17</a>\u001b[0m    plt\u001b[39m.\u001b[39mquiver([x[\u001b[39m0\u001b[39m]] , [x[\u001b[39m1\u001b[39m]] , [x[\u001b[39m2\u001b[39m]] , [x[\u001b[39m3\u001b[39m]],\n\u001b[1;32m     <a href='vscode-notebook-cell:/Users/vrbabu/Documents/code/udemy_ml_math_python/ml_math_python/06_affine_transformations.ipynb#ch0000005?line=17'>18</a>\u001b[0m                angles\u001b[39m=\u001b[39m\u001b[39m'\u001b[39m\u001b[39mxy\u001b[39m\u001b[39m'\u001b[39m, scale_units\u001b[39m=\u001b[39m\u001b[39m'\u001b[39m\u001b[39mxy\u001b[39m\u001b[39m'\u001b[39m, scale\u001b[39m=\u001b[39m\u001b[39m1\u001b[39m, color\u001b[39m=\u001b[39mcolours[i])\n",
      "\u001b[0;31mTypeError\u001b[0m: cat() received an invalid combination of arguments - got (list, Tensor, int), but expected one of:\n * (tuple of Tensors tensors, int dim, *, Tensor out)\n * (tuple of Tensors tensors, name dim, *, Tensor out)\n"
     ]
    },
    {
     "data": {
      "image/png": "[encoded data removed]",
      "text/plain": [
       "<Figure size 432x288 with 1 Axes>"
      ]
     },
     "metadata": {
      "needs_background": "light"
     },
     "output_type": "display_data"
    }
   ],
   "source": [
    "plot_vectors([v],'green',(-1,5),(-1,5))"
   ]
  },
  {
   "cell_type": "markdown",
   "metadata": {},
   "source": [
    "## Plot vectors using numpy"
   ]
  },
  {
   "cell_type": "code",
   "execution_count": 2,
   "metadata": {},
   "outputs": [],
   "source": [
    "import numpy as np"
   ]
  },
  {
   "cell_type": "code",
   "execution_count": 5,
   "metadata": {},
   "outputs": [],
   "source": [
    "v=np.array([3,1])"
   ]
  },
  {
   "cell_type": "code",
   "execution_count": 4,
   "metadata": {},
   "outputs": [],
   "source": [
    "# Function to plot 1 or more Range 1 Tensors (vectors) in a 2D plane\n",
    "import matplotlib.pyplot as plt\n",
    "\n",
    "def plot_vectors(vectors, colours, xlim, ylim):\n",
    "   # vecors : list of lists/arrays\n",
    "   # colours : list of colours of vectors on the plt\n",
    "   # xlim : xlimits tuple\n",
    "   # ylim : ylimits tuple\n",
    "   plt.figure()\n",
    "   plt.axvline(x=0, color='black')\n",
    "   plt.axhline(y=0, color='black')\n",
    "   plt.xlim(xlim[0],xlim[1])\n",
    "   plt.ylim(ylim[0],ylim[1])\n",
    "\n",
    "   for i in range(len(vectors)) :\n",
    "      x = np.concatenate([[0,0], vectors[i]])\n",
    "      print(x)\n",
    "      plt.quiver([x[0]] , [x[1]] , [x[2]] , [x[3]],\n",
    "                  angles='xy', scale_units='xy', scale=1, color=colours[i])\n",
    "\n",
    "   "
   ]
  },
  {
   "cell_type": "code",
   "execution_count": 40,
   "metadata": {},
   "outputs": [
    {
     "name": "stdout",
     "output_type": "stream",
     "text": [
      "[0 0 3 1]\n"
     ]
    },
    {
     "data": {
      "image/png": "[encoded data removed]",
      "text/plain": [
       "<Figure size 432x288 with 1 Axes>"
      ]
     },
     "metadata": {
      "needs_background": "light"
     },
     "output_type": "display_data"
    }
   ],
   "source": [
    "plot_vectors([v],'green',(-1,5),(-1,5))"
   ]
  },
  {
   "cell_type": "code",
   "execution_count": 7,
   "metadata": {},
   "outputs": [
    {
     "name": "stdout",
     "output_type": "stream",
     "text": [
      "[0 0 3 1]\n"
     ]
    },
    {
     "data": {
      "image/png": "[encoded data removed]",
      "text/plain": [
       "<Figure size 432x288 with 1 Axes>"
      ]
     },
     "metadata": {
      "needs_background": "light"
     },
     "output_type": "display_data"
    }
   ],
   "source": [
    "# plot identity vector applied to vector\n",
    "I=np.array([[1,0],[0,1]])\n",
    "Iv=np.dot(I,v)\n",
    "plot_vectors([Iv],'yellow',(-1,5),(-1,5))"
   ]
  },
  {
   "cell_type": "code",
   "execution_count": 11,
   "metadata": {},
   "outputs": [
    {
     "name": "stdout",
     "output_type": "stream",
     "text": [
      "[0 0 3 1]\n",
      "[ 0  0  3 -1]\n"
     ]
    },
    {
     "data": {
      "image/png": "[encoded data removed]",
      "text/plain": [
       "<Figure size 432x288 with 1 Axes>"
      ]
     },
     "metadata": {
      "needs_background": "light"
     },
     "output_type": "display_data"
    }
   ],
   "source": [
    "# Transform - Reflection - flip over X axis\n",
    "E = np.array([[1,0],[0,-1]])\n",
    "\n",
    "Ev = np.dot(E,v)\n",
    "\n",
    "plot_vectors([v,Ev],['lightblue','blue'],(-1,5),(-5,5))"
   ]
  },
  {
   "cell_type": "code",
   "execution_count": 15,
   "metadata": {},
   "outputs": [
    {
     "name": "stdout",
     "output_type": "stream",
     "text": [
      "[0 0 3 1]\n",
      "[ 0  0 -3  1]\n"
     ]
    },
    {
     "data": {
      "image/png": "[encoded data removed]",
      "text/plain": [
       "<Figure size 432x288 with 1 Axes>"
      ]
     },
     "metadata": {
      "needs_background": "light"
     },
     "output_type": "display_data"
    }
   ],
   "source": [
    "# Transform - Reflection - flip over Y axis\n",
    "F = np.array([[-1,0],[0,1]])\n",
    "\n",
    "Fv = np.dot(F,v)\n",
    "\n",
    "plot_vectors([v,Fv],['lightblue','blue'],(-5,5),(-1,5))"
   ]
  },
  {
   "cell_type": "code",
   "execution_count": 21,
   "metadata": {},
   "outputs": [
    {
     "name": "stdout",
     "output_type": "stream",
     "text": [
      "[0 0 3 1]\n",
      "[0 0 1 4]\n"
     ]
    },
    {
     "data": {
      "image/png": "[encoded data removed]",
      "text/plain": [
       "<Figure size 432x288 with 1 Axes>"
      ]
     },
     "metadata": {
      "needs_background": "light"
     },
     "output_type": "display_data"
    }
   ],
   "source": [
    "# Transform - Rotate & scale\n",
    "A = np.array([[-1,4],[2,-2]])\n",
    "\n",
    "Av = np.dot(A,v)\n",
    "\n",
    "plot_vectors([v,Av],['lightblue','blue'],(-1,5),(-1,5))"
   ]
  },
  {
   "cell_type": "code",
   "execution_count": 31,
   "metadata": {},
   "outputs": [
    {
     "name": "stdout",
     "output_type": "stream",
     "text": [
      "[0 0 3 1]\n",
      "[0 0 2 2]\n"
     ]
    },
    {
     "data": {
      "image/png": "[encoded data removed]",
      "text/plain": [
       "<Figure size 432x288 with 1 Axes>"
      ]
     },
     "metadata": {
      "needs_background": "light"
     },
     "output_type": "display_data"
    }
   ],
   "source": [
    "# Transform - Rotate & scale\n",
    "v2 = np.array([2,1])\n",
    "A = np.array([[-1,4],[2,-2]])\n",
    "\n",
    "Av2 = np.dot(A,v2)\n",
    "\n",
    "plot_vectors([v,Av2],['lightgreen','green'],(-1,5),(-1,5))"
   ]
  },
  {
   "cell_type": "code",
   "execution_count": 40,
   "metadata": {},
   "outputs": [],
   "source": [
    "# function to convert 1 column matrix back to vector\n",
    "def vectorfy(mtrx, clmn) :\n",
    "    return np.array(mtrx[:,clmn]).reshape(-1)"
   ]
  },
  {
   "cell_type": "code",
   "execution_count": 41,
   "metadata": {},
   "outputs": [
    {
     "name": "stdout",
     "output_type": "stream",
     "text": [
      "[0 0 3 1]\n",
      "[0 0 2 1]\n",
      "[ 0  0 -3 -1]\n",
      "[ 0  0 -1  1]\n",
      "[0 0 1 4]\n",
      "[0 0 2 2]\n",
      "[ 0  0 -1 -4]\n",
      "[ 0  0  5 -4]\n"
     ]
    },
    {
     "data": {
      "image/png": "[encoded data removed]",
      "text/plain": [
       "<Figure size 432x288 with 1 Axes>"
      ]
     },
     "metadata": {
      "needs_background": "light"
     },
     "output_type": "display_data"
    }
   ],
   "source": [
    "# Concatenate multiple vectors to apply a matrix to them in 1 step\n",
    "\n",
    "# Vectors\n",
    "v = np.array([3,1])\n",
    "v2 = np.array([2,1])\n",
    "v3 = np.array([-3,-1])\n",
    "v4 = np.array([-1,1])\n",
    "\n",
    "# Transformation matrices : identity & transformational\n",
    "I=np.array([[1,0],[0,1]])\n",
    "A = np.array([[-1,4],[2,-2]])\n",
    "\n",
    "# Transpose for matrix multiplication & Concatenate vectors\n",
    "V = np.concatenate(\n",
    "                    (np.matrix(v).T,\n",
    "                     np.matrix(v2).T,\n",
    "                     np.matrix(v3).T,\n",
    "                     np.matrix(v4).T),\n",
    "                    axis=1\n",
    "                    )\n",
    "\n",
    "# Transform\n",
    "IV = np.dot(I,V)\n",
    "AV = np.dot(A,V)\n",
    "\n",
    "# print(V)\n",
    "# print(AV)\n",
    "# print(vectorfy(V,0))\n",
    "# print(vectorfy(V,1))\n",
    "# print(vectorfy(V,2))\n",
    "# print(vectorfy(V,3))\n",
    "\n",
    "# Plot\n",
    "plot_vectors([vectorfy(V,0),vectorfy(V,1),vectorfy(V,2),vectorfy(V,3),\n",
    "              vectorfy(AV,0),vectorfy(AV,1),vectorfy(AV,2),vectorfy(AV,3)],\n",
    "             ['lightgreen','lightblue','lightgray','orange','blue','green','gray','red'],\n",
    "             (-4,6),(-5,5))\n"
   ]
  }
 ],
 "metadata": {
  "interpreter": {
   "hash": "11dccad6fc9fd5292e5f628d1e96f267cccaa02cd75130e16d76ced4156bca0d"
  },
  "kernelspec": {
   "display_name": "Python 3.10.2 ('venv': venv)",
   "language": "python",
   "name": "python3"
  },
  "language_info": {
   "codemirror_mode": {
    "name": "ipython",
    "version": 3
   },
   "file_extension": ".py",
   "mimetype": "text/x-python",
   "name": "python",
   "nbconvert_exporter": "python",
   "pygments_lexer": "ipython3",
   "version": "3.10.2"
  },
  "orig_nbformat": 4
 },
 "nbformat": 4,
 "nbformat_minor": 2
}
