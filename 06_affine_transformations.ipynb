{
 "cells": [
  {
   "cell_type": "code",
   "execution_count": 2,
   "metadata": {},
   "outputs": [],
   "source": [
    "import torch"
   ]
  },
  {
   "cell_type": "markdown",
   "metadata": {},
   "source": [
    "### Affine Transformations through Matrix applications"
   ]
  },
  {
   "cell_type": "markdown",
   "metadata": {},
   "source": [
    "#### Plot vector"
   ]
  },
  {
   "cell_type": "code",
   "execution_count": 3,
   "metadata": {},
   "outputs": [
    {
     "data": {
      "text/plain": [
       "tensor([3, 1])"
      ]
     },
     "execution_count": 3,
     "metadata": {},
     "output_type": "execute_result"
    }
   ],
   "source": [
    "v = torch.tensor([3,1])\n",
    "v"
   ]
  },
  {
   "cell_type": "code",
   "execution_count": 17,
   "metadata": {},
   "outputs": [],
   "source": [
    "# Function to plot 1 or more Range 1 Tensors (vectors) in a 2D plane\n",
    "import matplotlib.pyplot as plt\n",
    "\n",
    "def plot_vectors(vectors, colours, xlim, ylim):\n",
    "   # vecors : list of lists/arrays\n",
    "   # colours : list of colours of vectors on the plt\n",
    "   # xlim : xlimits tuple\n",
    "   # ylim : ylimits tuple\n",
    "   plt.figure()\n",
    "   plt.axvline(x=0, color='black')\n",
    "   plt.axhline(y=0, color='black')\n",
    "   plt.xlim(xlim[0],xlim[1])\n",
    "   plt.ylim(ylim[0],ylim[1])\n",
    "\n",
    "   for i in range(len(vectors)) :\n",
    "      x = torch.concat([torch.tensor([0,0]), vectors[i]])\n",
    "      plt.quiver([x[0]] , [x[1]] , [x[2]] , [x[3]],\n",
    "                  angles='xy', scale_units='xy', scale=1, color=colours[i])\n",
    "\n",
    "   \n",
    "\n",
    "\n"
   ]
  },
  {
   "cell_type": "code",
   "execution_count": 18,
   "metadata": {},
   "outputs": [
    {
     "ename": "RuntimeError",
     "evalue": "zero-dimensional tensor (at position 1) cannot be concatenated",
     "output_type": "error",
     "traceback": [
      "\u001b[0;31m---------------------------------------------------------------------------\u001b[0m",
      "\u001b[0;31mRuntimeError\u001b[0m                              Traceback (most recent call last)",
      "\u001b[1;32m/Users/vrbabu/Documents/code/udemy_ml_math_python/ml_math_python/06_affine_transformations.ipynb Cell 6'\u001b[0m in \u001b[0;36m<cell line: 1>\u001b[0;34m()\u001b[0m\n\u001b[0;32m----> <a href='vscode-notebook-cell:/Users/vrbabu/Documents/code/udemy_ml_math_python/ml_math_python/06_affine_transformations.ipynb#ch0000006?line=0'>1</a>\u001b[0m plot_vectors(v,\u001b[39m'\u001b[39;49m\u001b[39mgreen\u001b[39;49m\u001b[39m'\u001b[39;49m,(\u001b[39m-\u001b[39;49m\u001b[39m1\u001b[39;49m,\u001b[39m5\u001b[39;49m),(\u001b[39m-\u001b[39;49m\u001b[39m1\u001b[39;49m,\u001b[39m5\u001b[39;49m))\n",
      "\u001b[1;32m/Users/vrbabu/Documents/code/udemy_ml_math_python/ml_math_python/06_affine_transformations.ipynb Cell 5'\u001b[0m in \u001b[0;36mplot_vectors\u001b[0;34m(vectors, colours, xlim, ylim)\u001b[0m\n\u001b[1;32m     <a href='vscode-notebook-cell:/Users/vrbabu/Documents/code/udemy_ml_math_python/ml_math_python/06_affine_transformations.ipynb#ch0000005?line=12'>13</a>\u001b[0m plt\u001b[39m.\u001b[39mylim(ylim[\u001b[39m0\u001b[39m],ylim[\u001b[39m1\u001b[39m])\n\u001b[1;32m     <a href='vscode-notebook-cell:/Users/vrbabu/Documents/code/udemy_ml_math_python/ml_math_python/06_affine_transformations.ipynb#ch0000005?line=14'>15</a>\u001b[0m \u001b[39mfor\u001b[39;00m i \u001b[39min\u001b[39;00m \u001b[39mrange\u001b[39m(\u001b[39mlen\u001b[39m(vectors)) :\n\u001b[0;32m---> <a href='vscode-notebook-cell:/Users/vrbabu/Documents/code/udemy_ml_math_python/ml_math_python/06_affine_transformations.ipynb#ch0000005?line=15'>16</a>\u001b[0m    x \u001b[39m=\u001b[39m torch\u001b[39m.\u001b[39;49mconcat([torch\u001b[39m.\u001b[39;49mtensor([\u001b[39m0\u001b[39;49m,\u001b[39m0\u001b[39;49m]), vectors[i]])\n\u001b[1;32m     <a href='vscode-notebook-cell:/Users/vrbabu/Documents/code/udemy_ml_math_python/ml_math_python/06_affine_transformations.ipynb#ch0000005?line=16'>17</a>\u001b[0m    plt\u001b[39m.\u001b[39mquiver([x[\u001b[39m0\u001b[39m]] , [x[\u001b[39m1\u001b[39m]] , [x[\u001b[39m2\u001b[39m]] , [x[\u001b[39m3\u001b[39m]],\n\u001b[1;32m     <a href='vscode-notebook-cell:/Users/vrbabu/Documents/code/udemy_ml_math_python/ml_math_python/06_affine_transformations.ipynb#ch0000005?line=17'>18</a>\u001b[0m                angles\u001b[39m=\u001b[39m\u001b[39m'\u001b[39m\u001b[39mxy\u001b[39m\u001b[39m'\u001b[39m, scale_units\u001b[39m=\u001b[39m\u001b[39m'\u001b[39m\u001b[39mxy\u001b[39m\u001b[39m'\u001b[39m, scale\u001b[39m=\u001b[39m\u001b[39m1\u001b[39m, color\u001b[39m=\u001b[39mcolours[i])\n",
      "\u001b[0;31mRuntimeError\u001b[0m: zero-dimensional tensor (at position 1) cannot be concatenated"
     ]
    },
    {
     "data": {
      "image/png": "[encoded data removed]",
      "text/plain": [
       "<Figure size 432x288 with 1 Axes>"
      ]
     },
     "metadata": {
      "needs_background": "light"
     },
     "output_type": "display_data"
    }
   ],
   "source": [
    "plot_vectors(v,'green',(-1,5),(-1,5))"
   ]
  }
 ],
 "metadata": {
  "interpreter": {
   "hash": "11dccad6fc9fd5292e5f628d1e96f267cccaa02cd75130e16d76ced4156bca0d"
  },
  "kernelspec": {
   "display_name": "Python 3.10.2 ('venv': venv)",
   "language": "python",
   "name": "python3"
  },
  "language_info": {
   "codemirror_mode": {
    "name": "ipython",
    "version": 3
   },
   "file_extension": ".py",
   "mimetype": "text/x-python",
   "name": "python",
   "nbconvert_exporter": "python",
   "pygments_lexer": "ipython3",
   "version": "3.10.2"
  },
  "orig_nbformat": 4
 },
 "nbformat": 4,
 "nbformat_minor": 2
}
