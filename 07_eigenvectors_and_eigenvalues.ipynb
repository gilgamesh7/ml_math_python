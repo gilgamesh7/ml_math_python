{
 "cells": [
  {
   "cell_type": "markdown",
   "metadata": {},
   "source": [
    "Eigenvector => after affine xformation Av has same direction as v <br>\n",
    "Eigenvalue => scalar (lambda) , so that after affine transformation Av = (lambda)v"
   ]
  },
  {
   "cell_type": "code",
   "execution_count": 1,
   "metadata": {},
   "outputs": [],
   "source": [
    "import numpy as np"
   ]
  },
  {
   "cell_type": "code",
   "execution_count": 11,
   "metadata": {},
   "outputs": [],
   "source": [
    "# Function to plot 1 or more Range 1 Tensors (vectors) in a 2D plane\n",
    "import matplotlib.pyplot as plt\n",
    "\n",
    "def plot_vectors(vectors, colours, xlim, ylim):\n",
    "   # vecors : list of lists/arrays\n",
    "   # colours : list of colours of vectors on the plt\n",
    "   # xlim : xlimits tuple\n",
    "   # ylim : ylimits tuple\n",
    "   plt.figure()\n",
    "   plt.axvline(x=0, color='black')\n",
    "   plt.axhline(y=0, color='black')\n",
    "   plt.xlim(xlim[0],xlim[1])\n",
    "   plt.ylim(ylim[0],ylim[1])\n",
    "\n",
    "   for i in range(len(vectors)) :\n",
    "      x = np.concatenate([[0,0], vectors[i]])\n",
    "      print(x)\n",
    "      plt.quiver([x[0]] , [x[1]] , [x[2]] , [x[3]],\n",
    "                  angles='xy', scale_units='xy', scale=1, color=colours[i])"
   ]
  },
  {
   "cell_type": "code",
   "execution_count": 2,
   "metadata": {},
   "outputs": [
    {
     "data": {
      "text/plain": [
       "array([[-1,  4],\n",
       "       [ 2, -2]])"
      ]
     },
     "execution_count": 2,
     "metadata": {},
     "output_type": "execute_result"
    }
   ],
   "source": [
    "A = np.array([[-1,4],[2,-2]])\n",
    "A"
   ]
  },
  {
   "cell_type": "code",
   "execution_count": 5,
   "metadata": {},
   "outputs": [
    {
     "name": "stdout",
     "output_type": "stream",
     "text": [
      "[ 1.37228132 -4.37228132]\n",
      "[[ 0.86011126 -0.76454754]\n",
      " [ 0.51010647  0.64456735]]\n"
     ]
    }
   ],
   "source": [
    "# .eig returns a tuple with\n",
    "# vector of eigenvalues\n",
    "# Matrix of eigenvectors\n",
    "lambdas, V = np.linalg.eig(A)\n",
    "\n",
    "print(lambdas)\n",
    "print(V)"
   ]
  },
  {
   "cell_type": "code",
   "execution_count": 22,
   "metadata": {},
   "outputs": [
    {
     "data": {
      "text/plain": [
       "array([ True,  True])"
      ]
     },
     "execution_count": 22,
     "metadata": {},
     "output_type": "execute_result"
    }
   ],
   "source": [
    "# Confirm Av = (lambda) v for first vector\n",
    "v = V[:,0]\n",
    "lambda_0 = lambdas[0]\n",
    "\n",
    "Av = np.matmul(A,v)\n",
    "Av ==np.dot(lambda_0,v)\n"
   ]
  },
  {
   "cell_type": "code",
   "execution_count": 23,
   "metadata": {},
   "outputs": [
    {
     "name": "stdout",
     "output_type": "stream",
     "text": [
      "[0.         0.         1.18031462 0.70000958]\n",
      "[0.         0.         0.86011126 0.51010647]\n"
     ]
    },
    {
     "data": {
      "image/png": "[encoded data removed]",
      "text/plain": [
       "<Figure size 432x288 with 1 Axes>"
      ]
     },
     "metadata": {
      "needs_background": "light"
     },
     "output_type": "display_data"
    }
   ],
   "source": [
    "plot_vectors([Av,v],['blue','lightblue'],(-1,2),(-1,2))"
   ]
  },
  {
   "cell_type": "code",
   "execution_count": 24,
   "metadata": {},
   "outputs": [
    {
     "data": {
      "text/plain": [
       "array([ True,  True])"
      ]
     },
     "execution_count": 24,
     "metadata": {},
     "output_type": "execute_result"
    }
   ],
   "source": [
    "# Confirm Av = (lambda) v for second vector\n",
    "v2 = V[:,1]\n",
    "lambda_1 = lambdas[1]\n",
    "\n",
    "Av2 = np.matmul(A,v2)\n",
    "Av2 ==np.dot(lambda_1,v2)"
   ]
  },
  {
   "cell_type": "code",
   "execution_count": 26,
   "metadata": {},
   "outputs": [
    {
     "name": "stdout",
     "output_type": "stream",
     "text": [
      "[0.         0.         1.18031462 0.70000958]\n",
      "[0.         0.         0.86011126 0.51010647]\n",
      "[ 0.          0.          3.34281692 -2.81822977]\n",
      "[ 0.          0.         -0.76454754  0.64456735]\n"
     ]
    },
    {
     "data": {
      "image/png": "[encoded data removed]",
      "text/plain": [
       "<Figure size 432x288 with 1 Axes>"
      ]
     },
     "metadata": {
      "needs_background": "light"
     },
     "output_type": "display_data"
    }
   ],
   "source": [
    "plot_vectors([Av,v,Av2,v2],['blue','lightblue','green','lightgreen'],(-1,5),(-3,2))"
   ]
  },
  {
   "cell_type": "markdown",
   "metadata": {},
   "source": [
    "### Using torch"
   ]
  },
  {
   "cell_type": "code",
   "execution_count": 27,
   "metadata": {},
   "outputs": [],
   "source": [
    "import torch"
   ]
  },
  {
   "cell_type": "code",
   "execution_count": 30,
   "metadata": {},
   "outputs": [
    {
     "data": {
      "text/plain": [
       "tensor([[-1.,  4.],\n",
       "        [ 2., -2.]])"
      ]
     },
     "execution_count": 30,
     "metadata": {},
     "output_type": "execute_result"
    }
   ],
   "source": [
    "A_p = torch.tensor([[-1,4],[2,-2]], dtype=torch.float)\n",
    "A_p"
   ]
  },
  {
   "cell_type": "code",
   "execution_count": 33,
   "metadata": {},
   "outputs": [
    {
     "data": {
      "text/plain": [
       "torch.return_types.linalg_eig(\n",
       "eigenvalues=tensor([ 1.3723+0.j, -4.3723+0.j]),\n",
       "eigenvectors=tensor([[ 0.8601+0.j, -0.7645+0.j],\n",
       "        [ 0.5101+0.j,  0.6446+0.j]]))"
      ]
     },
     "execution_count": 33,
     "metadata": {},
     "output_type": "execute_result"
    }
   ],
   "source": [
    "eigens = torch.linalg.eig(A_p)\n",
    "eigens"
   ]
  },
  {
   "cell_type": "code",
   "execution_count": 36,
   "metadata": {},
   "outputs": [
    {
     "data": {
      "text/plain": [
       "tensor([[ 0.8601+0.j, -0.7645+0.j],\n",
       "        [ 0.5101+0.j,  0.6446+0.j]])"
      ]
     },
     "execution_count": 36,
     "metadata": {},
     "output_type": "execute_result"
    }
   ],
   "source": [
    "v_e_p = eigens.eigenvectors   \n",
    "v_e_p"
   ]
  },
  {
   "cell_type": "code",
   "execution_count": 37,
   "metadata": {},
   "outputs": [
    {
     "data": {
      "text/plain": [
       "tensor([ 1.3723+0.j, -4.3723+0.j])"
      ]
     },
     "execution_count": 37,
     "metadata": {},
     "output_type": "execute_result"
    }
   ],
   "source": [
    "lambda_e_p = eigens.eigenvalues\n",
    "lambda_e_p"
   ]
  },
  {
   "cell_type": "code",
   "execution_count": 46,
   "metadata": {},
   "outputs": [
    {
     "name": "stdout",
     "output_type": "stream",
     "text": [
      "tensor([0.8601, 0.5101])\n",
      "tensor(1.3723)\n",
      "tensor([1.1803, 0.7000])\n",
      "tensor([1.1803, 0.7000])\n"
     ]
    }
   ],
   "source": [
    "# Check first set\n",
    "v1_p = v_e_p[:,0].real\n",
    "lambda_1_p = lambda_e_p[0].real\n",
    "print(v1_p)\n",
    "print(lambda_1_p)\n",
    "\n",
    "Av1_p = torch.matmul(A_p,v1_p)\n",
    "lambda_1_pXv1_p = lambda_1_p * v1_p\n",
    "print(Av1_p)\n",
    "print(lambda_1_pXv1_p)\n",
    "\n"
   ]
  },
  {
   "cell_type": "code",
   "execution_count": 47,
   "metadata": {},
   "outputs": [
    {
     "name": "stdout",
     "output_type": "stream",
     "text": [
      "tensor([-0.7645,  0.6446])\n",
      "tensor(-4.3723)\n",
      "tensor([ 3.3428, -2.8182])\n",
      "tensor([ 3.3428, -2.8182])\n"
     ]
    }
   ],
   "source": [
    "# Check second set\n",
    "v2_p = v_e_p[:,1].real\n",
    "lambda_2_p = lambda_e_p[1].real\n",
    "print(v2_p)\n",
    "print(lambda_2_p)\n",
    "\n",
    "Av2_p = torch.matmul(A_p,v2_p)\n",
    "lambda_2_pXv2_p = lambda_2_p * v2_p\n",
    "print(Av2_p)\n",
    "print(lambda_2_pXv2_p)"
   ]
  },
  {
   "cell_type": "code",
   "execution_count": 48,
   "metadata": {},
   "outputs": [
    {
     "name": "stdout",
     "output_type": "stream",
     "text": [
      "[0.         0.         1.18031454 0.70000958]\n",
      "[0.         0.         0.86011124 0.51010644]\n",
      "[ 0.          0.          3.34281683 -2.81822968]\n",
      "[ 0.          0.         -0.76454753  0.64456731]\n"
     ]
    },
    {
     "data": {
      "image/png": "[encoded data removed]",
      "text/plain": [
       "<Figure size 432x288 with 1 Axes>"
      ]
     },
     "metadata": {
      "needs_background": "light"
     },
     "output_type": "display_data"
    }
   ],
   "source": [
    "plot_vectors([Av1_p.numpy(),v1_p.numpy(),Av2_p.numpy(),v2_p.numpy()],['blue','lightblue','green','lightgreen'],(-1,4),(-3,2))"
   ]
  }
 ],
 "metadata": {
  "interpreter": {
   "hash": "11dccad6fc9fd5292e5f628d1e96f267cccaa02cd75130e16d76ced4156bca0d"
  },
  "kernelspec": {
   "display_name": "Python 3.10.2 ('venv': venv)",
   "language": "python",
   "name": "python3"
  },
  "language_info": {
   "codemirror_mode": {
    "name": "ipython",
    "version": 3
   },
   "file_extension": ".py",
   "mimetype": "text/x-python",
   "name": "python",
   "nbconvert_exporter": "python",
   "pygments_lexer": "ipython3",
   "version": "3.10.2"
  },
  "orig_nbformat": 4
 },
 "nbformat": 4,
 "nbformat_minor": 2
}
